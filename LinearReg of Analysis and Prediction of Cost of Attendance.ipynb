{
 "cells": [
  {
   "cell_type": "code",
   "execution_count": 1,
   "metadata": {},
   "outputs": [],
   "source": [
    "import pandas as pd\n",
    "import numpy as np\n",
    "from matplotlib import pyplot as plt\n",
    "import sklearn\n",
    "from sklearn.linear_model import LinearRegression"
   ]
  },
  {
   "cell_type": "code",
   "execution_count": 2,
   "metadata": {},
   "outputs": [
    {
     "data": {
      "text/html": [
       "<div>\n",
       "<style scoped>\n",
       "    .dataframe tbody tr th:only-of-type {\n",
       "        vertical-align: middle;\n",
       "    }\n",
       "\n",
       "    .dataframe tbody tr th {\n",
       "        vertical-align: top;\n",
       "    }\n",
       "\n",
       "    .dataframe thead th {\n",
       "        text-align: right;\n",
       "    }\n",
       "</style>\n",
       "<table border=\"1\" class=\"dataframe\">\n",
       "  <thead>\n",
       "    <tr style=\"text-align: right;\">\n",
       "      <th></th>\n",
       "      <th>Year</th>\n",
       "      <th>UNITID</th>\n",
       "      <th>INTUTIONFEE</th>\n",
       "      <th>OUTTUTIONFEE</th>\n",
       "      <th>BOOKSUPPLY</th>\n",
       "      <th>ONCAMROOM</th>\n",
       "      <th>ONCAMOTHEXP</th>\n",
       "      <th>OFFCAMROOM</th>\n",
       "      <th>OFFCAMOTHEXP</th>\n",
       "      <th>Total</th>\n",
       "      <th>AllocProportion</th>\n",
       "      <th>SampleSize</th>\n",
       "      <th>ActualProportion</th>\n",
       "      <th>SelectionProb</th>\n",
       "      <th>SamplingWeight</th>\n",
       "    </tr>\n",
       "  </thead>\n",
       "  <tbody>\n",
       "    <tr>\n",
       "      <th>0</th>\n",
       "      <td>2016</td>\n",
       "      <td>100751</td>\n",
       "      <td>10470</td>\n",
       "      <td>26950</td>\n",
       "      <td>1200.0</td>\n",
       "      <td>13050</td>\n",
       "      <td>4116</td>\n",
       "      <td>13050</td>\n",
       "      <td>4116</td>\n",
       "      <td>1368</td>\n",
       "      <td>0.25</td>\n",
       "      <td>125</td>\n",
       "      <td>0.25</td>\n",
       "      <td>0.091374</td>\n",
       "      <td>10.944</td>\n",
       "    </tr>\n",
       "    <tr>\n",
       "      <th>1</th>\n",
       "      <td>2016</td>\n",
       "      <td>100858</td>\n",
       "      <td>10696</td>\n",
       "      <td>28840</td>\n",
       "      <td>1200.0</td>\n",
       "      <td>12898</td>\n",
       "      <td>5664</td>\n",
       "      <td>12898</td>\n",
       "      <td>5664</td>\n",
       "      <td>1368</td>\n",
       "      <td>0.25</td>\n",
       "      <td>125</td>\n",
       "      <td>0.25</td>\n",
       "      <td>0.091374</td>\n",
       "      <td>10.944</td>\n",
       "    </tr>\n",
       "    <tr>\n",
       "      <th>2</th>\n",
       "      <td>2016</td>\n",
       "      <td>101453</td>\n",
       "      <td>9792</td>\n",
       "      <td>9792</td>\n",
       "      <td>1000.0</td>\n",
       "      <td>4140</td>\n",
       "      <td>2628</td>\n",
       "      <td>10503</td>\n",
       "      <td>3456</td>\n",
       "      <td>1368</td>\n",
       "      <td>0.25</td>\n",
       "      <td>125</td>\n",
       "      <td>0.25</td>\n",
       "      <td>0.091374</td>\n",
       "      <td>10.944</td>\n",
       "    </tr>\n",
       "    <tr>\n",
       "      <th>3</th>\n",
       "      <td>2016</td>\n",
       "      <td>102298</td>\n",
       "      <td>12340</td>\n",
       "      <td>12340</td>\n",
       "      <td>1370.0</td>\n",
       "      <td>6504</td>\n",
       "      <td>2100</td>\n",
       "      <td>3200</td>\n",
       "      <td>2100</td>\n",
       "      <td>1368</td>\n",
       "      <td>0.25</td>\n",
       "      <td>125</td>\n",
       "      <td>0.25</td>\n",
       "      <td>0.091374</td>\n",
       "      <td>10.944</td>\n",
       "    </tr>\n",
       "    <tr>\n",
       "      <th>4</th>\n",
       "      <td>2016</td>\n",
       "      <td>106412</td>\n",
       "      <td>6898</td>\n",
       "      <td>12988</td>\n",
       "      <td>1000.0</td>\n",
       "      <td>7372</td>\n",
       "      <td>2848</td>\n",
       "      <td>4426</td>\n",
       "      <td>3888</td>\n",
       "      <td>1368</td>\n",
       "      <td>0.25</td>\n",
       "      <td>125</td>\n",
       "      <td>0.25</td>\n",
       "      <td>0.091374</td>\n",
       "      <td>10.944</td>\n",
       "    </tr>\n",
       "  </tbody>\n",
       "</table>\n",
       "</div>"
      ],
      "text/plain": [
       "   Year  UNITID  INTUTIONFEE  OUTTUTIONFEE  BOOKSUPPLY  ONCAMROOM  \\\n",
       "0  2016  100751        10470         26950      1200.0      13050   \n",
       "1  2016  100858        10696         28840      1200.0      12898   \n",
       "2  2016  101453         9792          9792      1000.0       4140   \n",
       "3  2016  102298        12340         12340      1370.0       6504   \n",
       "4  2016  106412         6898         12988      1000.0       7372   \n",
       "\n",
       "   ONCAMOTHEXP  OFFCAMROOM  OFFCAMOTHEXP  Total  AllocProportion  SampleSize  \\\n",
       "0         4116       13050          4116   1368             0.25         125   \n",
       "1         5664       12898          5664   1368             0.25         125   \n",
       "2         2628       10503          3456   1368             0.25         125   \n",
       "3         2100        3200          2100   1368             0.25         125   \n",
       "4         2848        4426          3888   1368             0.25         125   \n",
       "\n",
       "   ActualProportion  SelectionProb  SamplingWeight  \n",
       "0              0.25       0.091374          10.944  \n",
       "1              0.25       0.091374          10.944  \n",
       "2              0.25       0.091374          10.944  \n",
       "3              0.25       0.091374          10.944  \n",
       "4              0.25       0.091374          10.944  "
      ]
     },
     "execution_count": 2,
     "metadata": {},
     "output_type": "execute_result"
    }
   ],
   "source": [
    "data = pd.read_csv(\"COASAMPLE.csv\")\n",
    "data.head()"
   ]
  },
  {
   "cell_type": "code",
   "execution_count": 3,
   "metadata": {},
   "outputs": [
    {
     "data": {
      "text/plain": [
       "(480, 15)"
      ]
     },
     "execution_count": 3,
     "metadata": {},
     "output_type": "execute_result"
    }
   ],
   "source": [
    "data.shape"
   ]
  },
  {
   "cell_type": "code",
   "execution_count": 4,
   "metadata": {},
   "outputs": [
    {
     "data": {
      "text/plain": [
       "(480, 9)"
      ]
     },
     "execution_count": 4,
     "metadata": {},
     "output_type": "execute_result"
    }
   ],
   "source": [
    "data_df = pd.DataFrame(data, columns = ['Year', 'UNITID', 'INTUTIONFEE','OUTTUTIONFEE','BOOKSUPPLY','ONCAMROOM','ONCAMOTHEXP','OFFCAMROOM','OFFCAMOTHEXP'])\n",
    "data_df.shape"
   ]
  },
  {
   "cell_type": "code",
   "execution_count": 5,
   "metadata": {},
   "outputs": [
    {
     "data": {
      "text/plain": [
       "(480, 1)"
      ]
     },
     "execution_count": 5,
     "metadata": {},
     "output_type": "execute_result"
    }
   ],
   "source": [
    "data_x = pd.DataFrame(data_df, columns=['INTUTIONFEE']).values\n",
    "data_x.shape"
   ]
  },
  {
   "cell_type": "code",
   "execution_count": 6,
   "metadata": {},
   "outputs": [
    {
     "data": {
      "text/plain": [
       "(480, 1)"
      ]
     },
     "execution_count": 6,
     "metadata": {},
     "output_type": "execute_result"
    }
   ],
   "source": [
    "data_y1 = pd.DataFrame(data_df, columns=['OUTTUTIONFEE']).values\n",
    "data_y2 = pd.DataFrame(data_df, columns=['ONCAMROOM']).values\n",
    "data_y3 = pd.DataFrame(data_df, columns=['OFFCAMROOM']).values\n",
    "#res = data_y.reshape([499, 499])\n",
    "data_y1.shape"
   ]
  },
  {
   "cell_type": "code",
   "execution_count": 7,
   "metadata": {},
   "outputs": [],
   "source": [
    "outtutionfee_model = LinearRegression().fit(data_x,data_y1)\n",
    "oncampusroom_model = LinearRegression().fit(data_x,data_y2)\n",
    "offcampusroom_model = LinearRegression().fit(data_x,data_y3)"
   ]
  },
  {
   "cell_type": "code",
   "execution_count": 8,
   "metadata": {},
   "outputs": [
    {
     "name": "stdout",
     "output_type": "stream",
     "text": [
      "coefficient of determination: 0.8037645877204754\n",
      "intercept: [10528.09509374]\n",
      "slope: [[0.72436645]]\n"
     ]
    }
   ],
   "source": [
    "r_sq = outtutionfee_model.score(data_x,data_y1)\n",
    "print('coefficient of determination:', r_sq)\n",
    "print('intercept:', outtutionfee_model.intercept_)\n",
    "print('slope:', outtutionfee_model.coef_)"
   ]
  },
  {
   "cell_type": "code",
   "execution_count": 9,
   "metadata": {},
   "outputs": [
    {
     "name": "stdout",
     "output_type": "stream",
     "text": [
      "Predicted Out of Station Tution Fees\n",
      "[[26710.44165086]\n",
      " [22908.9665062 ]]\n"
     ]
    }
   ],
   "source": [
    "print(\"Predicted Out of Station Tution Fees\")\n",
    "print(outtutionfee_model.predict([[22340], [17092]]))"
   ]
  },
  {
   "cell_type": "code",
   "execution_count": 10,
   "metadata": {},
   "outputs": [
    {
     "name": "stdout",
     "output_type": "stream",
     "text": [
      "Predicted On campus housing\n",
      "[[10557.55820359]\n",
      " [10028.05047583]]\n"
     ]
    }
   ],
   "source": [
    "print(\"Predicted On campus housing\")\n",
    "print(oncampusroom_model.predict([[22340], [17092]]))"
   ]
  },
  {
   "cell_type": "code",
   "execution_count": 11,
   "metadata": {},
   "outputs": [
    {
     "name": "stdout",
     "output_type": "stream",
     "text": [
      "Predicted On campus housing\n",
      "[[10077.45151252]\n",
      " [ 9777.73380568]]\n"
     ]
    }
   ],
   "source": [
    "print(\"Predicted On campus housing\")\n",
    "print(offcampusroom_model.predict([[22340], [17092]]))"
   ]
  },
  {
   "cell_type": "code",
   "execution_count": null,
   "metadata": {},
   "outputs": [],
   "source": []
  }
 ],
 "metadata": {
  "kernelspec": {
   "display_name": "Python 3",
   "language": "python",
   "name": "python3"
  },
  "language_info": {
   "codemirror_mode": {
    "name": "ipython",
    "version": 3
   },
   "file_extension": ".py",
   "mimetype": "text/x-python",
   "name": "python",
   "nbconvert_exporter": "python",
   "pygments_lexer": "ipython3",
   "version": "3.8.5"
  }
 },
 "nbformat": 4,
 "nbformat_minor": 4
}
